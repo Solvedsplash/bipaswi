{
  "cells": [
    {
      "cell_type": "markdown",
      "metadata": {
        "id": "view-in-github",
        "colab_type": "text"
      },
      "source": [
        "<a href=\"https://colab.research.google.com/github/Solvedsplash/bipaswi/blob/main/Bipaswi_Shakya_workshop_01_question_(1).ipynb\" target=\"_parent\"><img src=\"https://colab.research.google.com/assets/colab-badge.svg\" alt=\"Open In Colab\"/></a>"
      ]
    },
    {
      "cell_type": "markdown",
      "metadata": {
        "id": "SW6H7nEnQTU5"
      },
      "source": [
        "# Q1) Calculate the sum of all numbers from 1 to n."
      ]
    },
    {
      "cell_type": "code",
      "source": [
        "n=int(input(\"Enter a number: \"))\n",
        "sum=0\n",
        "i=1\n",
        "while i<=n:\n",
        "  sum= sum+i\n",
        "  i=i+1\n",
        "print (sum)\n",
        "  \n",
        "\n",
        "\n"
      ],
      "metadata": {
        "colab": {
          "base_uri": "https://localhost:8080/"
        },
        "id": "PF8IgSNJqTTu",
        "outputId": "bf57b540-ecbd-4693-faec-042b9d359107"
      },
      "execution_count": 4,
      "outputs": [
        {
          "output_type": "stream",
          "name": "stdout",
          "text": [
            "Enter a number: 6\n",
            "21\n"
          ]
        }
      ]
    },
    {
      "cell_type": "markdown",
      "metadata": {
        "id": "LduZ9x5YQtfR"
      },
      "source": [
        "# Q2) Write a program to take an input (max) that is odd positive integer and print the sums of positive odd integers from 1 to max.\n"
      ]
    },
    {
      "cell_type": "code",
      "source": [
        "while True:\n",
        "  n=int(input(\"Enter a odd number: \"))\n",
        "  if n>0 and n%2==1:\n",
        "    print(\"valid\")\n",
        "    sum = 0\n",
        "    for i in range(1,n+1):\n",
        "        if i%2 == 1:\n",
        "            sum = sum + i\n",
        "    print(\"Sum of odd number\", n, \" = \",sum)\n",
        "    break\n",
        "  else:\n",
        "    print(\"not valid\")\n",
        "  \n",
        "  \n",
        "\n",
        "    \n",
        "  \n",
        "\n",
        "\n"
      ],
      "metadata": {
        "colab": {
          "base_uri": "https://localhost:8080/"
        },
        "id": "vgHc56VRst3Z",
        "outputId": "876b7abb-910a-4433-d010-7219f326498f"
      },
      "execution_count": 23,
      "outputs": [
        {
          "output_type": "stream",
          "name": "stdout",
          "text": [
            "Enter a odd number: 9\n",
            "valid\n",
            "Sum of odd number 9  =  25\n"
          ]
        }
      ]
    },
    {
      "cell_type": "markdown",
      "metadata": {
        "id": "hLWecMQWQ1V6"
      },
      "source": [
        "# Q3) Write a program to print all the multipliers of 6 in range[1,n], where n is positive integer."
      ]
    },
    {
      "cell_type": "code",
      "execution_count": 25,
      "metadata": {
        "colab": {
          "base_uri": "https://localhost:8080/"
        },
        "id": "1dNbC0uip1GB",
        "outputId": "58619b1a-fa6e-4d76-e530-e4bf2611860c"
      },
      "outputs": [
        {
          "output_type": "stream",
          "name": "stdout",
          "text": [
            " Enter a number: 36\n",
            "6\n",
            "12\n",
            "18\n",
            "24\n",
            "30\n",
            "36\n"
          ]
        }
      ],
      "source": [
        "n=int(input(\" Enter a number: \"))\n",
        "for i in range (1,n+1):\n",
        "  if i %6==0:\n",
        "    print(i)\n",
        "\n",
        "\n",
        "\n",
        "\n",
        "\n",
        "\n"
      ]
    },
    {
      "cell_type": "markdown",
      "metadata": {
        "id": "mVfT_smoQ-O6"
      },
      "source": [
        "# Q4) Write a python program to check whether the given number is prime or not using function."
      ]
    },
    {
      "cell_type": "code",
      "source": [
        "def Prime(n):\n",
        "    if n == 1 or n%2 == 0:\n",
        "        return False\n",
        "    else:\n",
        "        for i in range(3,n):\n",
        "            if n%i == 0:\n",
        "                return False\n",
        "    return True\n",
        "n = int(input(\"Enter a number: \"))\n",
        "print(Prime(11))\n"
      ],
      "metadata": {
        "colab": {
          "base_uri": "https://localhost:8080/"
        },
        "id": "CQzwrifxwcBQ",
        "outputId": "07f0b18e-4a16-4b60-f8fa-6111a107a3db"
      },
      "execution_count": 63,
      "outputs": [
        {
          "output_type": "stream",
          "name": "stdout",
          "text": [
            "Enter a number: 2\n",
            "True\n"
          ]
        }
      ]
    },
    {
      "cell_type": "markdown",
      "metadata": {
        "id": "Bf7oaddHRJZr"
      },
      "source": [
        "# Q5) Write a program to display all factorial of number from 1 to n."
      ]
    },
    {
      "cell_type": "code",
      "source": [
        "n=int (input(\"Enter a Number: \"))\n",
        "def factorial(n):\n",
        "   if n==0 or n==1:\n",
        "        return 1\n",
        "   else:\n",
        "        return n*factorial(n-1)\n",
        "for i in range(1,n+1):\n",
        "    print(\"{0:2d} {1:10d}\".format(i, factorial(i)))\n",
        "\n"
      ],
      "metadata": {
        "colab": {
          "base_uri": "https://localhost:8080/"
        },
        "id": "DO9UBDcKwcmQ",
        "outputId": "f9a1d53d-55cc-48b4-affc-04d8c794a336"
      },
      "execution_count": 68,
      "outputs": [
        {
          "output_type": "stream",
          "name": "stdout",
          "text": [
            "Enter a Number: 7\n",
            " 1          1\n",
            " 2          2\n",
            " 3          6\n",
            " 4         24\n",
            " 5        120\n",
            " 6        720\n",
            " 7       5040\n"
          ]
        }
      ]
    },
    {
      "cell_type": "markdown",
      "metadata": {
        "id": "fCmNqh3NTYt9"
      },
      "source": [
        "# Q6) Write a program that prints:\n",
        "# n, $ s_{1}(n)=\\sum \\limits _{k=1} ^{n} k $ , $ s_{2}(n)=\\sum \\limits _{k=1} ^{n} k ^{2} $ , and  $ s_{3}(n) = \\frac{3s_{2}(n)}{s_{1}(n)} $ for n = 1, 2, 3, ..., 20.  Try to guess the general formula for  $ \\sum \\limits _{k=1} ^{n} k ^{2} $ from the resulting table."
      ]
    },
    {
      "cell_type": "code",
      "source": [
        "n=20\n",
        "def s1(n):\n",
        "  sum1=0 \n",
        "  for i in range (1,n+1):\n",
        "    sum1=sum1+i\n",
        "  return sum1\n",
        "\n",
        "def s2(n):\n",
        "  sum2=0\n",
        "  for i in range (1, n+1):\n",
        "    sum2= sum2+i*i\n",
        "  return sum2 \n",
        "\n",
        "def s3(n):\n",
        "  return 3*s2(n)/s1(n)\n",
        "\n",
        "for j in range(1,n+1):\n",
        "    print(\"{0:2d} {1:5d} {2:5d} {3:10f}\".format(j,s1(j),s2(j),s3(j)))\n",
        "\n",
        "\n",
        "\n"
      ],
      "metadata": {
        "colab": {
          "base_uri": "https://localhost:8080/"
        },
        "id": "td_gubPi1PZF",
        "outputId": "f5155a66-a0a5-45b7-a584-8cc4c7b8118a"
      },
      "execution_count": 72,
      "outputs": [
        {
          "output_type": "stream",
          "name": "stdout",
          "text": [
            " 1     1     1   3.000000\n",
            " 2     3     5   5.000000\n",
            " 3     6    14   7.000000\n",
            " 4    10    30   9.000000\n",
            " 5    15    55  11.000000\n",
            " 6    21    91  13.000000\n",
            " 7    28   140  15.000000\n",
            " 8    36   204  17.000000\n",
            " 9    45   285  19.000000\n",
            "10    55   385  21.000000\n",
            "11    66   506  23.000000\n",
            "12    78   650  25.000000\n",
            "13    91   819  27.000000\n",
            "14   105  1015  29.000000\n",
            "15   120  1240  31.000000\n",
            "16   136  1496  33.000000\n",
            "17   153  1785  35.000000\n",
            "18   171  2109  37.000000\n",
            "19   190  2470  39.000000\n",
            "20   210  2870  41.000000\n"
          ]
        }
      ]
    },
    {
      "cell_type": "markdown",
      "metadata": {
        "id": "9vwvVvO0Vou5"
      },
      "source": [
        "# Q7) Write a function <b>myPow(x, n)</b> that returns $x ^{n}$, where   and n is a non-negative integer.  Do not use the ** operator or the math.pow function — use one <i>while</i> loop.  Hint:  $ x ^{0} = 1 $.  "
      ]
    },
    {
      "cell_type": "code",
      "source": [
        "def myPow(x,n):\n",
        "  i=1\n",
        "  mul = 1\n",
        "  while i<=n:\n",
        "     mul = mul * x\n",
        "     i = i+1\n",
        "  return mul\n",
        "print(myPow(2,4)) \n",
        "  "
      ],
      "metadata": {
        "colab": {
          "base_uri": "https://localhost:8080/"
        },
        "id": "JYnbL04vwdrJ",
        "outputId": "f97b67b9-edb0-4f12-c641-ba7ce5101981"
      },
      "execution_count": 86,
      "outputs": [
        {
          "output_type": "stream",
          "name": "stdout",
          "text": [
            "16\n"
          ]
        }
      ]
    },
    {
      "cell_type": "markdown",
      "metadata": {
        "id": "MH4WZLRpWuQX"
      },
      "source": [
        "# Q8) Write a function printSquare(n) that displays a “square” whose side has n stars. For example, for n = 5, the output should be:\n",
        "<table>\n",
        "  <tr>\n",
        "    <td>*</td>\n",
        "    <td>*</td>\n",
        "    <td>*</td>\n",
        "    <td>*</td>\n",
        "    <td>*</td>\n",
        "  </tr>\n",
        "\n",
        "  <tr>\n",
        "    <td>*</td>\n",
        "    <td> </td>\n",
        "    <td> </td>\n",
        "    <td> </td>\n",
        "    <td>*</td>\n",
        "  </tr>\n",
        "    <tr>\n",
        "    <td>*</td>\n",
        "    <td> </td>\n",
        "    <td> </td>\n",
        "    <td> </td>\n",
        "    <td>*</td>\n",
        "  </tr>\n",
        "  <tr>\n",
        "    <td>*</td>\n",
        "    <td> </td>\n",
        "    <td> </td>\n",
        "    <td> </td>\n",
        "    <td>*</td>\n",
        "  </tr>\n",
        "  <tr>\n",
        "    <td>*</td>\n",
        "    <td>*</td>\n",
        "    <td>*</td>\n",
        "    <td>*</td>\n",
        "    <td>*</td>\n",
        "  </tr>\n",
        "</table>\n"
      ]
    },
    {
      "cell_type": "code",
      "execution_count": 80,
      "metadata": {
        "colab": {
          "base_uri": "https://localhost:8080/"
        },
        "id": "dFsavzeMp1GF",
        "outputId": "614a44f8-31e3-4112-b7da-cb6ad4fbd0cf"
      },
      "outputs": [
        {
          "output_type": "stream",
          "name": "stdout",
          "text": [
            "*****\n",
            "*   *\n",
            "*   *\n",
            "*   *\n",
            "*****\n"
          ]
        }
      ],
      "source": [
        "n=5\n",
        "def printSquare(n):\n",
        "  for i in range(1, n+1):\n",
        "     if i==1 or i==n:\n",
        "       print (\"*\"*n)  \n",
        "     else:\n",
        "       print(\"*\"+\" \"*(n-2)+\"*\")\n",
        "printSquare(n)\n",
        " \n",
        "\n"
      ]
    },
    {
      "cell_type": "code",
      "source": [],
      "metadata": {
        "id": "K8DnRfFqD3Ar"
      },
      "execution_count": null,
      "outputs": []
    }
  ],
  "metadata": {
    "colab": {
      "provenance": [],
      "include_colab_link": true
    },
    "kernelspec": {
      "display_name": "Python 3 (ipykernel)",
      "language": "python",
      "name": "python3"
    },
    "language_info": {
      "codemirror_mode": {
        "name": "ipython",
        "version": 3
      },
      "file_extension": ".py",
      "mimetype": "text/x-python",
      "name": "python",
      "nbconvert_exporter": "python",
      "pygments_lexer": "ipython3",
      "version": "3.9.13"
    }
  },
  "nbformat": 4,
  "nbformat_minor": 0
}